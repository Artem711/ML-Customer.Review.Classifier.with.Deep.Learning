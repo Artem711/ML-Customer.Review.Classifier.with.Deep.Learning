{
 "cells": [
  {
   "cell_type": "markdown",
   "id": "31e20537",
   "metadata": {},
   "source": [
    "## Introduction to Gated Recurrent Neural Network"
   ]
  },
  {
   "cell_type": "markdown",
   "id": "eb02aebd",
   "metadata": {},
   "source": [
    "In this blog we are going to understand:\n",
    "- What a Gated Recurrent Neural Network (GRU) is?\n",
    "- What is the theory behind it?\n",
    "- How does the architecture look like?\n",
    "- What makes it so different from a traditional neural network?\n",
    "\n",
    "This will enable us to apply GRUs (just like RNNs, GRUs, LSTMs) to problem related to sequence classification (ex: audio, text, video)\n",
    "\n",
    "So, understanding this thery will set the grounds to (understand, implement, identify problems/use-cases where we can actually use these models)"
   ]
  },
  {
   "cell_type": "markdown",
   "id": "f1136c7b",
   "metadata": {},
   "source": [
    "### What is the motivation?\n",
    "\n",
    "For example, if you're reading a newspaper, you will read several sentences after which you stop and try to guess the next suitable word that will fit well in that context. The reason why you can predict the next word with relatively high accuracy is because you remember what you read before (you don't throw everything away and start thinking from scratch again) as our thoughts always have some sort of persistance - we remember what happend previously. Because of that, we're able to predict what will happen next.\n",
    "\n",
    "But, traditional neural network cannot do this, and that's a very big shortcoming.\n",
    "\n",
    "For example, if you want to classify what kind of event is happening at every point in a movie. It's unclear to a traiditional neural network, because it doesn't maintain that state of previous events. Since it doesn't know what happend before, it is impossible for it to predict what will happen next."
   ]
  },
  {
   "cell_type": "code",
   "execution_count": null,
   "id": "c6d8b6c1",
   "metadata": {},
   "outputs": [],
   "source": []
  }
 ],
 "metadata": {
  "kernelspec": {
   "display_name": "Python 3 (ipykernel)",
   "language": "python",
   "name": "python3"
  },
  "language_info": {
   "codemirror_mode": {
    "name": "ipython",
    "version": 3
   },
   "file_extension": ".py",
   "mimetype": "text/x-python",
   "name": "python",
   "nbconvert_exporter": "python",
   "pygments_lexer": "ipython3",
   "version": "3.9.12"
  }
 },
 "nbformat": 4,
 "nbformat_minor": 5
}
